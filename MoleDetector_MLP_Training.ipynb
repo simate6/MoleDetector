{
 "cells": [
  {
   "cell_type": "markdown",
   "metadata": {
    "colab_type": "text",
    "id": "BzoTC-CU5tpl"
   },
   "source": [
    "#### 1.3.3 Data organization and standardization"
   ]
  },
  {
   "cell_type": "markdown",
   "metadata": {
    "colab_type": "text",
    "id": "nQUCCUwn5tpn"
   },
   "source": [
    "Libraries for creating the tuple dataset:"
   ]
  },
  {
   "cell_type": "code",
   "execution_count": 1,
   "metadata": {
    "colab": {},
    "colab_type": "code",
    "id": "tj9UqYDQ5tpo"
   },
   "outputs": [],
   "source": [
    "import numpy as np\n",
    "import glob\n",
    "from PIL import Image\n",
    "import matplotlib.pyplot as plt"
   ]
  },
  {
   "cell_type": "markdown",
   "metadata": {
    "colab_type": "text",
    "id": "zoP0xEJZ5tpr"
   },
   "source": [
    "The following code reads the cropped images and organizes into a random sequenced tuple structure based on the label."
   ]
  },
  {
   "cell_type": "code",
   "execution_count": 2,
   "metadata": {
    "colab": {},
    "colab_type": "code",
    "id": "Lm50K81P5tps",
    "outputId": "8c003094-33da-4e60-b083-f11f053ae7b6"
   },
   "outputs": [
    {
     "name": "stdout",
     "output_type": "stream",
     "text": [
      "(32, 32)\n",
      "(32, 32)\n",
      "It is a mole.\n"
     ]
    },
    {
     "data": {
      "image/png": "[encoded data removed]",
      "text/plain": [
       "<Figure size 432x288 with 1 Axes>"
      ]
     },
     "metadata": {
      "needs_background": "light"
     },
     "output_type": "display_data"
    }
   ],
   "source": [
    "imgs = []\n",
    "labels = []\n",
    "for file_path in glob.glob('Cropped/*.bmp'):  # grabbing path of the cropped images\n",
    "    if file_path:\n",
    "        imgs.append(np.asarray(Image.open(file_path).convert('L')))  # reading mole images and labels\n",
    "        labels.append(1)  # reading background images and labels\n",
    "\n",
    "for file_path in glob.glob('CroppedBCKG/*.bmp'):  # grabbing path of the cropped images\n",
    "    if file_path:\n",
    "        imgs.append(np.asarray(Image.open(file_path).convert('L')))  # reading mole images and labels\n",
    "        labels.append(0)  # reading background images and labels\n",
    "\n",
    "imgs = np.asarray(imgs)\n",
    "labels = np.asarray(labels)\n",
    "    \n",
    "s = np.arange(len(imgs))\n",
    "np.random.shuffle(s)\n",
    "imgs = imgs[s]\n",
    "labels = labels[s]\n",
    "\n",
    "dataset = [imgs, labels]\n",
    "\n",
    "#Example:\n",
    "#Second dim: i-th image\n",
    "#First dim: 0 - image data; 1 - label data\n",
    "plt.imshow(dataset[0][0], cmap='gray')\n",
    "if dataset[1][0]==1:\n",
    "    print('It is a mole.')\n",
    "else:\n",
    "    print('It is not a mole.')\n",
    "    \n",
    "# organize the dataset into a tuple\n",
    "dataset = (dataset[0], dataset[1])"
   ]
  },
  {
   "cell_type": "markdown",
   "metadata": {},
   "source": [
    "The following code separates the dataset into validation, test and train subsets. Based on the training set standardization executed on the three sets, on each channel separately. After that the separated, standardized R, G , B channels rearranged."
   ]
  },
  {
   "cell_type": "code",
   "execution_count": 3,
   "metadata": {},
   "outputs": [
    {
     "name": "stderr",
     "output_type": "stream",
     "text": [
      "Using TensorFlow backend.\n"
     ]
    }
   ],
   "source": [
    "from keras.utils import np_utils\n",
    "from keras.models import Sequential, load_model\n",
    "from keras.layers.core import Dense\n",
    "from keras.callbacks import EarlyStopping, ModelCheckpoint"
   ]
  },
  {
   "cell_type": "code",
   "execution_count": 4,
   "metadata": {
    "colab": {},
    "colab_type": "code",
    "id": "1bwRYl89LP3m",
    "outputId": "56c6d620-2c7a-49b5-a56e-7f15729d0f63"
   },
   "outputs": [
    {
     "name": "stdout",
     "output_type": "stream",
     "text": [
      "X_train max:  1.0\n",
      "X_train min:  0.0\n",
      "X_valid max:  1.0\n",
      "X_valid min:  0.0\n",
      "X_test max:  1.0\n",
      "X_test min:  0.0\n",
      "X train shape:  (2756, 32, 32)\n",
      "Y train shape:  (2756,)\n",
      "X valid shape:  (306, 32, 32)\n",
      "Y valid shape:  (306,)\n",
      "X test shape:  (307, 32, 32)\n",
      "Y test shape:  (307,)\n",
      "2756 train samples\n"
     ]
    }
   ],
   "source": [
    "# mole or not mole\n",
    "nb_classes = 2\n",
    "\n",
    "# separating inputs and outputs\n",
    "X, Y = dataset\n",
    "\n",
    "# ratio of validation samples\n",
    "test_split = 0.1\n",
    "valid_split = 0.1\n",
    "\n",
    "#Indeces of the subsets\n",
    "v_index = int(X.shape[0]*(1-valid_split-test_split))\n",
    "t_index = int(X.shape[0]*(1-test_split))\n",
    "\n",
    "#Splitting the dataset into test, validation and train subsets\n",
    "X_train = X[:t_index].astype('float32')\n",
    "Y_train = Y[:t_index]\n",
    "X_valid = X[v_index:t_index].astype('float32')\n",
    "Y_valid = Y[v_index:t_index]\n",
    "X_test = X[t_index:].astype('float32')\n",
    "Y_test = Y[t_index:]\n",
    "\n",
    "# dimensions of our images.\n",
    "img_width, img_height = X_train.shape[1], X_train.shape[2]\n",
    "\n",
    "# standard\n",
    "X_train = X_train / 255\n",
    "X_valid = X_valid / 255\n",
    "X_test = X_test / 255\n",
    "\n",
    "print('X_train max: ',X_train.max())\n",
    "print('X_train min: ',X_train.min())\n",
    "print('X_valid max: ',X_valid.max())\n",
    "print('X_valid min: ',X_valid.min())\n",
    "print('X_test max: ',X_test.max())\n",
    "print('X_test min: ',X_test.min())\n",
    "\n",
    "print('X train shape: ', X_train.shape)\n",
    "print('Y train shape: ', Y_train.shape)\n",
    "print('X valid shape: ', X_valid.shape)\n",
    "print('Y valid shape: ', Y_valid.shape)\n",
    "print('X test shape: ', X_test.shape)\n",
    "print('Y test shape: ', Y_test.shape)\n",
    "print(X_train.shape[0], 'train samples')"
   ]
  },
  {
   "cell_type": "code",
   "execution_count": 5,
   "metadata": {},
   "outputs": [
    {
     "name": "stdout",
     "output_type": "stream",
     "text": [
      "(2756, 2)\n"
     ]
    }
   ],
   "source": [
    "# convert class vectors to binary class matrices:\n",
    "Y_train = np_utils.to_categorical(Y_train, nb_classes)\n",
    "Y_valid = np_utils.to_categorical(Y_valid, nb_classes)\n",
    "Y_test = np_utils.to_categorical(Y_test, nb_classes)\n",
    "print(Y_train.shape)"
   ]
  },
  {
   "cell_type": "code",
   "execution_count": 6,
   "metadata": {},
   "outputs": [
    {
     "name": "stdout",
     "output_type": "stream",
     "text": [
      "_________________________________________________________________\n",
      "Layer (type)                 Output Shape              Param #   \n",
      "=================================================================\n",
      "dense_1 (Dense)              (None, 10)                10250     \n",
      "_________________________________________________________________\n",
      "dense_2 (Dense)              (None, 10)                110       \n",
      "_________________________________________________________________\n",
      "dense_3 (Dense)              (None, 2)                 22        \n",
      "=================================================================\n",
      "Total params: 10,382\n",
      "Trainable params: 10,382\n",
      "Non-trainable params: 0\n",
      "_________________________________________________________________\n",
      "None\n"
     ]
    }
   ],
   "source": [
    "model = Sequential()\n",
    "model.add(Dense(10, activation='relu', input_shape=(1024,)))\n",
    "model.add(Dense(10, activation='relu'))\n",
    "model.add(Dense(nb_classes, activation='softmax'))\n",
    "\n",
    "print(model.summary())\n",
    "\n",
    "model.compile(loss='categorical_crossentropy', optimizer='Adam', metrics=['accuracy'])"
   ]
  },
  {
   "cell_type": "code",
   "execution_count": 7,
   "metadata": {},
   "outputs": [
    {
     "name": "stdout",
     "output_type": "stream",
     "text": [
      "(2756, 1024)\n"
     ]
    }
   ],
   "source": [
    "X_train = X_train.reshape(X_train.shape[0], -1)\n",
    "X_valid = X_valid.reshape(X_valid.shape[0], -1)\n",
    "X_test = X_test.reshape(X_test.shape[0], -1)\n",
    "print(X_train.shape)"
   ]
  },
  {
   "cell_type": "code",
   "execution_count": 8,
   "metadata": {},
   "outputs": [
    {
     "name": "stdout",
     "output_type": "stream",
     "text": [
      "Train on 2756 samples, validate on 306 samples\n",
      "Epoch 1/20\n",
      "2756/2756 [==============================] - 0s 150us/step - loss: 0.6883 - acc: 0.5533 - val_loss: 0.6745 - val_acc: 0.8758\n",
      "\n",
      "Epoch 00001: val_loss improved from inf to 0.67452, saving model to mlp_weights.hdf5\n",
      "Epoch 2/20\n",
      "2756/2756 [==============================] - 0s 59us/step - loss: 0.6643 - acc: 0.6829 - val_loss: 0.6490 - val_acc: 0.8889\n",
      "\n",
      "Epoch 00002: val_loss improved from 0.67452 to 0.64904, saving model to mlp_weights.hdf5\n",
      "Epoch 3/20\n",
      "2756/2756 [==============================] - 0s 52us/step - loss: 0.6354 - acc: 0.6691 - val_loss: 0.5940 - val_acc: 0.8987\n",
      "\n",
      "Epoch 00003: val_loss improved from 0.64904 to 0.59399, saving model to mlp_weights.hdf5\n",
      "Epoch 4/20\n",
      "2756/2756 [==============================] - 0s 47us/step - loss: 0.5736 - acc: 0.7993 - val_loss: 0.5261 - val_acc: 0.8791\n",
      "\n",
      "Epoch 00004: val_loss improved from 0.59399 to 0.52605, saving model to mlp_weights.hdf5\n",
      "Epoch 5/20\n",
      "2756/2756 [==============================] - 0s 47us/step - loss: 0.5112 - acc: 0.8784 - val_loss: 0.4537 - val_acc: 0.9150\n",
      "\n",
      "Epoch 00005: val_loss improved from 0.52605 to 0.45371, saving model to mlp_weights.hdf5\n",
      "Epoch 6/20\n",
      "2756/2756 [==============================] - 0s 58us/step - loss: 0.4558 - acc: 0.8745 - val_loss: 0.4108 - val_acc: 0.8725\n",
      "\n",
      "Epoch 00006: val_loss improved from 0.45371 to 0.41084, saving model to mlp_weights.hdf5\n",
      "Epoch 7/20\n",
      "2756/2756 [==============================] - 0s 54us/step - loss: 0.4137 - acc: 0.8650 - val_loss: 0.3646 - val_acc: 0.9052\n",
      "\n",
      "Epoch 00007: val_loss improved from 0.41084 to 0.36462, saving model to mlp_weights.hdf5\n",
      "Epoch 8/20\n",
      "2756/2756 [==============================] - 0s 41us/step - loss: 0.3848 - acc: 0.8621 - val_loss: 0.3480 - val_acc: 0.9216\n",
      "\n",
      "Epoch 00008: val_loss improved from 0.36462 to 0.34804, saving model to mlp_weights.hdf5\n",
      "Epoch 9/20\n",
      "2756/2756 [==============================] - 0s 97us/step - loss: 0.3638 - acc: 0.8679 - val_loss: 0.3312 - val_acc: 0.9216\n",
      "\n",
      "Epoch 00009: val_loss improved from 0.34804 to 0.33117, saving model to mlp_weights.hdf5\n",
      "Epoch 10/20\n",
      "2756/2756 [==============================] - 0s 70us/step - loss: 0.3447 - acc: 0.8839 - val_loss: 0.3143 - val_acc: 0.9052\n",
      "\n",
      "Epoch 00010: val_loss improved from 0.33117 to 0.31433, saving model to mlp_weights.hdf5\n",
      "Epoch 11/20\n",
      "2756/2756 [==============================] - 0s 45us/step - loss: 0.3317 - acc: 0.8835 - val_loss: 0.3095 - val_acc: 0.8954\n",
      "\n",
      "Epoch 00011: val_loss improved from 0.31433 to 0.30952, saving model to mlp_weights.hdf5\n",
      "Epoch 12/20\n",
      "2756/2756 [==============================] - 0s 43us/step - loss: 0.3220 - acc: 0.8832 - val_loss: 0.3007 - val_acc: 0.8954\n",
      "\n",
      "Epoch 00012: val_loss improved from 0.30952 to 0.30072, saving model to mlp_weights.hdf5\n",
      "Epoch 13/20\n",
      "2756/2756 [==============================] - 0s 54us/step - loss: 0.3231 - acc: 0.8788 - val_loss: 0.2959 - val_acc: 0.9216\n",
      "\n",
      "Epoch 00013: val_loss improved from 0.30072 to 0.29593, saving model to mlp_weights.hdf5\n",
      "Epoch 14/20\n",
      "2756/2756 [==============================] - 0s 40us/step - loss: 0.3104 - acc: 0.8824 - val_loss: 0.2721 - val_acc: 0.9183\n",
      "\n",
      "Epoch 00014: val_loss improved from 0.29593 to 0.27207, saving model to mlp_weights.hdf5\n",
      "Epoch 15/20\n",
      "2756/2756 [==============================] - 0s 47us/step - loss: 0.3007 - acc: 0.8857 - val_loss: 0.2860 - val_acc: 0.8856\n",
      "\n",
      "Epoch 00015: val_loss did not improve from 0.27207\n",
      "Epoch 16/20\n",
      "2756/2756 [==============================] - 0s 60us/step - loss: 0.2917 - acc: 0.8864 - val_loss: 0.2590 - val_acc: 0.9183\n",
      "\n",
      "Epoch 00016: val_loss improved from 0.27207 to 0.25898, saving model to mlp_weights.hdf5\n",
      "Epoch 17/20\n",
      "2756/2756 [==============================] - 0s 43us/step - loss: 0.2900 - acc: 0.8908 - val_loss: 0.2680 - val_acc: 0.8987\n",
      "\n",
      "Epoch 00017: val_loss did not improve from 0.25898\n",
      "Epoch 18/20\n",
      "2756/2756 [==============================] - 0s 52us/step - loss: 0.2803 - acc: 0.8937 - val_loss: 0.2480 - val_acc: 0.9216\n",
      "\n",
      "Epoch 00018: val_loss improved from 0.25898 to 0.24796, saving model to mlp_weights.hdf5\n",
      "Epoch 19/20\n",
      "2756/2756 [==============================] - 0s 42us/step - loss: 0.2715 - acc: 0.8973 - val_loss: 0.2550 - val_acc: 0.9085\n",
      "\n",
      "Epoch 00019: val_loss did not improve from 0.24796\n",
      "Epoch 20/20\n",
      "2756/2756 [==============================] - 0s 43us/step - loss: 0.2698 - acc: 0.8966 - val_loss: 0.2396 - val_acc: 0.9216\n",
      "\n",
      "Epoch 00020: val_loss improved from 0.24796 to 0.23963, saving model to mlp_weights.hdf5\n"
     ]
    }
   ],
   "source": [
    "batch_size = 128\n",
    "epochs = 20\n",
    "\n",
    "patience = 5\n",
    "early_stopping=EarlyStopping(patience=patience, verbose=1)\n",
    "checkpointer=ModelCheckpoint(filepath='Weights/mlp_weights.hdf5', save_best_only=True, verbose=1)\n",
    "\n",
    "network_history = model.fit(X_train, Y_train,\n",
    "                            batch_size=batch_size,\n",
    "                            epochs=epochs, verbose=1,\n",
    "                            validation_data=(X_valid, Y_valid),\n",
    "                            callbacks=[checkpointer, early_stopping])"
   ]
  },
  {
   "cell_type": "code",
   "execution_count": 9,
   "metadata": {},
   "outputs": [],
   "source": [
    "def plot_history(network_history):\n",
    "    plt.figure()\n",
    "    plt.xlabel('Epochs')\n",
    "    plt.ylabel('Loss')\n",
    "    plt.plot(network_history.history['loss'])\n",
    "    plt.plot(network_history.history['val_loss'])\n",
    "    plt.legend(['Training', 'Validation'])\n",
    "\n",
    "    plt.figure()\n",
    "    plt.xlabel('Epochs')\n",
    "    plt.ylabel('Accuracy')\n",
    "    plt.plot(network_history.history['acc'])\n",
    "    plt.plot(network_history.history['val_acc'])\n",
    "    plt.legend(['Training', 'Validation'])\n",
    "    \n",
    "    plt.show()"
   ]
  },
  {
   "cell_type": "code",
   "execution_count": 10,
   "metadata": {},
   "outputs": [
    {
     "data": {
      "image/png": "[encoded data removed]",
      "text/plain": [
       "<Figure size 432x288 with 1 Axes>"
      ]
     },
     "metadata": {
      "needs_background": "light"
     },
     "output_type": "display_data"
    },
    {
     "data": {
      "image/png": "[encoded data removed]",
      "text/plain": [
       "<Figure size 432x288 with 1 Axes>"
      ]
     },
     "metadata": {
      "needs_background": "light"
     },
     "output_type": "display_data"
    }
   ],
   "source": [
    "plot_history(network_history)"
   ]
  },
  {
   "cell_type": "code",
   "execution_count": null,
   "metadata": {},
   "outputs": [],
   "source": []
  }
 ],
 "metadata": {
  "colab": {
   "collapsed_sections": [],
   "name": "MoleDetector.ipynb",
   "provenance": [],
   "version": "0.3.2"
  },
  "kernelspec": {
   "display_name": "env_tensorflow-gpu",
   "language": "python",
   "name": "env_tensorflow-gpu"
  },
  "language_info": {
   "codemirror_mode": {
    "name": "ipython",
    "version": 3
   },
   "file_extension": ".py",
   "mimetype": "text/x-python",
   "name": "python",
   "nbconvert_exporter": "python",
   "pygments_lexer": "ipython3",
   "version": "3.6.6"
  }
 },
 "nbformat": 4,
 "nbformat_minor": 1
}
