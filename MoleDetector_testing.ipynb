{
 "cells": [
  {
   "cell_type": "markdown",
   "metadata": {
    "colab_type": "text",
    "id": "awNiQuDjLP3k"
   },
   "source": [
    "## Proof of the pudding"
   ]
  },
  {
   "cell_type": "markdown",
   "metadata": {
    "colab_type": "text",
    "id": "oTCTxzHC5tpE"
   },
   "source": [
    "We imported the following libraries for preprocessing purposes:"
   ]
  },
  {
   "cell_type": "code",
   "execution_count": 4,
   "metadata": {
    "colab": {},
    "colab_type": "code",
    "id": "8ydxJ3rY5tpG"
   },
   "outputs": [],
   "source": [
    "from PIL import Image\n",
    "import os\n",
    "import xml.etree.ElementTree as ET\n",
    "import matplotlib.pyplot as plt"
   ]
  },
  {
   "cell_type": "markdown",
   "metadata": {
    "colab_type": "text",
    "id": "9Yh6KTPL5tpL"
   },
   "source": [
    "The following code iterates through our collected and labeled images. In the process we crop the moles and save them into separate files based on the previously generated .xml files. The cropped images also rescaled, thus the output images become 32x32 3-channel 8bit images in .bmp file format."
   ]
  },
  {
   "cell_type": "code",
   "execution_count": 5,
   "metadata": {
    "colab": {},
    "colab_type": "code",
    "id": "TrXAkp1n5tpN",
    "outputId": "6956102a-dfe8-4db3-f787-0e648e447800"
   },
   "outputs": [],
   "source": [
    "test_imgs = []\n",
    "i_mole = 1\n",
    "for i_image in range(1,250):  # iterating through the images\n",
    "    if os.path.exists('Test/%d.xml' % (i_image)):  # checking existance of file\n",
    "        tree = ET.parse('Test/%d.xml' % (i_image))  # reading the i-th .xml files\n",
    "        root = tree.getroot()\n",
    "        img = Image.open('Test/%d.jpg' % (i_image))  # reading the i-th image\n",
    "        for mole in root.findall('object'):  # iterating through the labeled objects\n",
    "            box = mole.find('bndbox')  # acquiring the bounding box of the mole\n",
    "            xmin = int(box.find('xmin').text)\n",
    "            xmax = int(box.find('xmax').text)\n",
    "            ymax = int(box.find('ymax').text)\n",
    "            ymin = int(box.find('ymin').text)\n",
    "            area = (xmin, ymin, xmax, ymax)\n",
    "            cropped_img = img.crop(area)  # cropping the image\n",
    "            cropped_img = cropped_img.resize((32,32))  # resizing the image\n",
    "            test_imgs.append(cropped_img)  # saving the image\n",
    "            i_mole += 1"
   ]
  },
  {
   "cell_type": "markdown",
   "metadata": {
    "colab_type": "text",
    "id": "q-ue9nQn5tpS"
   },
   "source": [
    "We present two examples of the cropped moles:"
   ]
  },
  {
   "cell_type": "code",
   "execution_count": 6,
   "metadata": {
    "colab": {},
    "colab_type": "code",
    "id": "-aV1YTW55tpT",
    "outputId": "b1ea0af9-69c3-464d-e71c-bd878bd3273b"
   },
   "outputs": [
    {
     "data": {
      "image/png": "[encoded data removed]",
      "text/plain": [
       "<Figure size 432x288 with 2 Axes>"
      ]
     },
     "metadata": {
      "needs_background": "light"
     },
     "output_type": "display_data"
    }
   ],
   "source": [
    "example_mole1=plt.imread('Cropped/8.bmp')\n",
    "example_mole2=plt.imread('Cropped/810.bmp')\n",
    "figure = plt.figure()\n",
    "figure.add_subplot(1,2,1)\n",
    "plt.imshow(example_mole1)\n",
    "figure.add_subplot(1,2,2)\n",
    "plt.imshow(example_mole2)\n",
    "plt.show()"
   ]
  },
  {
   "cell_type": "markdown",
   "metadata": {
    "colab_type": "text",
    "id": "NdaHa4wi5tpZ"
   },
   "source": [
    "The following code iterates through the selected images, which will provide samples for non-mole elements. Notation for the background elements is (<i>bckg</i>). We distribute 56 points in one image evenly where we sample 32x32 regions. The cropped images checked afterwards for eliminate the unlikely events when the samples contain moles."
   ]
  },
  {
   "cell_type": "code",
   "execution_count": 7,
   "metadata": {
    "colab": {},
    "colab_type": "code",
    "id": "5QAlbuaP5tpa"
   },
   "outputs": [],
   "source": [
    "i_bckg = 1\n",
    "for i_img in range(1,254):\n",
    "    if os.path.exists('DataBaseBCKG/%d.jpg' % (i_img)):  # checking existance of file\n",
    "        img = Image.open('DataBaseBCKG/%d.jpg' % (i_img))  # reading the i-th image\n",
    "        width, height = img.size\n",
    "        x_scale = int(width/12-1)  # distance between samples in x direction\n",
    "        y_scale = int(height/12-1)  # distance between samples in y direction\n",
    "        for x_point in range(1,12):\n",
    "            for y_point in range(1,12):\n",
    "                area = (x_point*x_scale-16, y_point*y_scale-16, x_point*x_scale+16, y_point*y_scale+16)  # sampled area\n",
    "                cropped_img = img.crop(area)  # cropping the image\n",
    "                cropped_img.save('CroppedBCKG/%d.bmp' % (i_bckg))  # saving the image\n",
    "                i_bckg += 1"
   ]
  },
  {
   "cell_type": "markdown",
   "metadata": {
    "colab_type": "text",
    "id": "VanXNuXE5tpf"
   },
   "source": [
    "We present two examples of the non-mole cropped images:"
   ]
  },
  {
   "cell_type": "code",
   "execution_count": 7,
   "metadata": {
    "colab": {},
    "colab_type": "code",
    "id": "jT4tw9Ry5tpg",
    "outputId": "713d899b-f982-4837-c44c-db6fe13f88ac"
   },
   "outputs": [
    {
     "data": {
      "image/png": "[encoded data removed]",
      "text/plain": [
       "<Figure size 432x288 with 2 Axes>"
      ]
     },
     "metadata": {
      "needs_background": "light"
     },
     "output_type": "display_data"
    }
   ],
   "source": [
    "example_bckg1=plt.imread('CroppedBCKG/4.bmp')\n",
    "example_bckg2=plt.imread('CroppedBCKG/117.bmp')\n",
    "figure = plt.figure()\n",
    "figure.add_subplot(1,2,1)\n",
    "plt.imshow(example_bckg1)\n",
    "figure.add_subplot(1,2,2)\n",
    "plt.imshow(example_bckg2)\n",
    "plt.show()"
   ]
  },
  {
   "cell_type": "code",
   "execution_count": null,
   "metadata": {},
   "outputs": [],
   "source": []
  }
 ],
 "metadata": {
  "colab": {
   "collapsed_sections": [],
   "name": "MoleDetector.ipynb",
   "provenance": [],
   "version": "0.3.2"
  },
  "kernelspec": {
   "display_name": "Python 3",
   "language": "python",
   "name": "python3"
  },
  "language_info": {
   "codemirror_mode": {
    "name": "ipython",
    "version": 3
   },
   "file_extension": ".py",
   "mimetype": "text/x-python",
   "name": "python",
   "nbconvert_exporter": "python",
   "pygments_lexer": "ipython3",
   "version": "3.6.6"
  }
 },
 "nbformat": 4,
 "nbformat_minor": 1
}
